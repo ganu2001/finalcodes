{
 "cells": [
  {
   "cell_type": "code",
   "execution_count": 1,
   "id": "c74b71db",
   "metadata": {},
   "outputs": [],
   "source": [
    "import numpy as np\n",
    "from tensorflow import keras\n",
    "from tensorflow.keras.datasets import imdb\n",
    "from tensorflow.keras.models import Sequential\n",
    "from tensorflow.keras.layers import Dense, Dropout, Embedding, Flatten\n",
    "from tensorflow.keras.preprocessing import sequence"
   ]
  },
  {
   "cell_type": "code",
   "execution_count": 2,
   "id": "c15f58e7",
   "metadata": {},
   "outputs": [],
   "source": [
    "max_words = 10000\n",
    "(x_train, y_train), (x_test, y_test) = imdb.load_data(num_words=max_words)\n"
   ]
  },
  {
   "cell_type": "code",
   "execution_count": 3,
   "id": "0f290146",
   "metadata": {},
   "outputs": [],
   "source": [
    "max_sequence_length = 250\n",
    "x_train = sequence.pad_sequences(x_train, maxlen=max_sequence_length)\n",
    "x_test = sequence.pad_sequences(x_test, maxlen=max_sequence_length)\n",
    "y_train = np.array(y_train)\n",
    "y_test = np.array(y_test)\n"
   ]
  },
  {
   "cell_type": "code",
   "execution_count": 4,
   "id": "d3fd7a0b",
   "metadata": {},
   "outputs": [],
   "source": [
    "from keras import layers\n",
    "from keras import models"
   ]
  },
  {
   "cell_type": "code",
   "execution_count": 5,
   "id": "2dbb46d8",
   "metadata": {},
   "outputs": [],
   "source": [
    "embedding_size = 50\n",
    "model = Sequential()\n",
    "model.add(Embedding(max_words, embedding_size, input_length=max_sequence_length))\n",
    "model.add(Dropout(0.5))\n",
    "model.add(Flatten())\n",
    "model.add(Dense(1, activation='sigmoid'))"
   ]
  },
  {
   "cell_type": "code",
   "execution_count": null,
   "id": "66ea1809",
   "metadata": {},
   "outputs": [],
   "source": []
  },
  {
   "cell_type": "code",
   "execution_count": 6,
   "id": "2e1dc7b7",
   "metadata": {},
   "outputs": [],
   "source": [
    "model.compile(loss='binary_crossentropy', optimizer='adam', metrics=['accuracy'])\n"
   ]
  },
  {
   "cell_type": "code",
   "execution_count": 10,
   "id": "f265f645",
   "metadata": {},
   "outputs": [
    {
     "name": "stdout",
     "output_type": "stream",
     "text": [
      "Model: \"sequential\"\n",
      "_________________________________________________________________\n",
      " Layer (type)                Output Shape              Param #   \n",
      "=================================================================\n",
      " embedding (Embedding)       (None, 250, 50)           500000    \n",
      "                                                                 \n",
      " dropout (Dropout)           (None, 250, 50)           0         \n",
      "                                                                 \n",
      " flatten (Flatten)           (None, 12500)             0         \n",
      "                                                                 \n",
      " dense (Dense)               (None, 1)                 12501     \n",
      "                                                                 \n",
      "=================================================================\n",
      "Total params: 512,501\n",
      "Trainable params: 512,501\n",
      "Non-trainable params: 0\n",
      "_________________________________________________________________\n"
     ]
    }
   ],
   "source": [
    "model.summary()"
   ]
  },
  {
   "cell_type": "code",
   "execution_count": 7,
   "id": "34efbf1a",
   "metadata": {},
   "outputs": [
    {
     "name": "stdout",
     "output_type": "stream",
     "text": [
      "Epoch 1/10\n",
      "391/391 [==============================] - 10s 24ms/step - loss: 0.5436 - accuracy: 0.7175 - val_loss: 0.3385 - val_accuracy: 0.8623\n",
      "Epoch 2/10\n",
      "391/391 [==============================] - 9s 23ms/step - loss: 0.2572 - accuracy: 0.9009 - val_loss: 0.2824 - val_accuracy: 0.8812\n",
      "Epoch 3/10\n",
      "391/391 [==============================] - 9s 23ms/step - loss: 0.1756 - accuracy: 0.9376 - val_loss: 0.2798 - val_accuracy: 0.8814\n",
      "Epoch 4/10\n",
      "391/391 [==============================] - 9s 23ms/step - loss: 0.1185 - accuracy: 0.9650 - val_loss: 0.2871 - val_accuracy: 0.8816\n",
      "Epoch 5/10\n",
      "391/391 [==============================] - 9s 23ms/step - loss: 0.0802 - accuracy: 0.9802 - val_loss: 0.2964 - val_accuracy: 0.8802\n",
      "Epoch 6/10\n",
      "391/391 [==============================] - 9s 24ms/step - loss: 0.0525 - accuracy: 0.9900 - val_loss: 0.3156 - val_accuracy: 0.8764\n",
      "Epoch 7/10\n",
      "391/391 [==============================] - 9s 23ms/step - loss: 0.0352 - accuracy: 0.9953 - val_loss: 0.3248 - val_accuracy: 0.8774\n",
      "Epoch 8/10\n",
      "391/391 [==============================] - 9s 22ms/step - loss: 0.0257 - accuracy: 0.9970 - val_loss: 0.3434 - val_accuracy: 0.8750\n",
      "Epoch 9/10\n",
      "391/391 [==============================] - 8s 21ms/step - loss: 0.0184 - accuracy: 0.9983 - val_loss: 0.3539 - val_accuracy: 0.8762\n",
      "Epoch 10/10\n",
      "391/391 [==============================] - 8s 21ms/step - loss: 0.0133 - accuracy: 0.9992 - val_loss: 0.3667 - val_accuracy: 0.8754\n"
     ]
    },
    {
     "data": {
      "text/plain": [
       "<keras.callbacks.History at 0x1cdc36d2d30>"
      ]
     },
     "execution_count": 7,
     "metadata": {},
     "output_type": "execute_result"
    }
   ],
   "source": [
    "batch_size = 64\n",
    "epochs = 10\n",
    "model.fit(x_train, y_train, batch_size=batch_size, epochs=epochs, validation_data=(x_test, y_test))\n"
   ]
  },
  {
   "cell_type": "code",
   "execution_count": 11,
   "id": "c6a94fde",
   "metadata": {},
   "outputs": [
    {
     "name": "stdout",
     "output_type": "stream",
     "text": [
      "782/782 [==============================] - 2s 2ms/step - loss: 0.3667 - accuracy: 0.8754\n",
      "Test accuracy: 0.8754400014877319\n"
     ]
    }
   ],
   "source": [
    "scores = model.evaluate(x_test, y_test, verbose=0)\n",
    "print(\"Test accuracy:\", scores[1])\n"
   ]
  },
  {
   "cell_type": "code",
   "execution_count": null,
   "id": "9f3ada8c",
   "metadata": {},
   "outputs": [],
   "source": []
  },
  {
   "cell_type": "code",
   "execution_count": null,
   "id": "365b2b14",
   "metadata": {},
   "outputs": [],
   "source": []
  }
 ],
 "metadata": {
  "kernelspec": {
   "display_name": "Python 3 (ipykernel)",
   "language": "python",
   "name": "python3"
  },
  "language_info": {
   "codemirror_mode": {
    "name": "ipython",
    "version": 3
   },
   "file_extension": ".py",
   "mimetype": "text/x-python",
   "name": "python",
   "nbconvert_exporter": "python",
   "pygments_lexer": "ipython3",
   "version": "3.9.13"
  }
 },
 "nbformat": 4,
 "nbformat_minor": 5
}
